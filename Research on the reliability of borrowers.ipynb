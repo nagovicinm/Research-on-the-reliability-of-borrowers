{
 "cells": [
  {
   "cell_type": "markdown",
   "id": "4638d171",
   "metadata": {},
   "source": [
    "<div style=\"border:solid Purple 2px; padding: 40px\">\n",
    "\n",
    "<b>Привет, Максим!👋\n",
    "\n",
    "Меня зовут Эльвира, я буду ревьюером твоего проекта. Предлагаю общаться на «ты», но если это не удобно - дай мне знать, и мы перейдем на «вы».\n",
    "\n",
    "\n",
    "Ты можешь найти мои комментарии, обозначенные <font color='green'>зеленым</font>, <font color='gold'>желтым</font> и <font color='red'>красным</font> цветами, например:\n",
    "\n",
    "\n",
    "<div class=\"alert alert-success\">\n",
    "<h2> Комментарий ревьюера 😊<a class=\"tocSkip\"> </h2>\n",
    "    \n",
    "Такими комментариями я буду помечать отлично проделаную работу😉\n",
    "</div>\n",
    "    \n",
    "<div class=\"alert alert-warning\">\n",
    "<h2> Комментарий ревьюера 🤓<a class=\"tocSkip\"> </h2>\n",
    "        \n",
    "В таких комментариях я постараюсь подсказать тебе более элегантное или легкое решение, некоторые хитрости и фишки. Части проекта, помеченные такими комментариями, можно не исправлять, но рекомендую обратить на них внимание.</div>\n",
    "\n",
    "<div class=\"alert alert-block alert-danger\">\n",
    "<h2> Комментарий ревьюера ⛔️<a class=\"tocSkip\"></h2>\n",
    "    \n",
    "В случае, когда решение на отдельном шаге требует существенной переработки и внесения правок. Если ты видишь такой комментарий, значит здесть есть недочет, который следует исправить.\n",
    "</div>\n",
    "\n",
    "Ты также можешь реагировать на мои комментарии своими, выделяя их цветами и наиболее понравившимся тебе способом оформления, но явно  отличающимся от моих комментариев. Это нужно, чтобы не создавалась путаница🙃\n",
    "    \n",
    "`<div class=\"alert alert-info\"> <b>Комментарий студента:</b> Например, вот так.</div>`\n",
    "\n",
    "Чтобы сделать подобный блок, кликни здесь дважды и скопируй всю предыдущую строку ;)\n",
    "    \n",
    "Пожалуйста, не удаляй и не перемещай мои комментарии, они будут особенно полезны для нашей работы в случае повторной проверки проекта.</div></b>"
   ]
  },
  {
   "cell_type": "markdown",
   "id": "925c2c4c",
   "metadata": {},
   "source": [
    "<div class=\"alert alert-info\"> \n",
    "<b>Комментарий студента:</b> \n",
    "    \n",
    "Привет. Отлично на 'Ты'. \n",
    "\n",
    "</div>"
   ]
  },
  {
   "cell_type": "markdown",
   "id": "386f2ae7",
   "metadata": {
    "deletable": false,
    "editable": false,
    "id": "386f2ae7"
   },
   "source": [
    "# Исследование надежности заемщиков\n"
   ]
  },
  {
   "cell_type": "markdown",
   "id": "dc29d9eb",
   "metadata": {},
   "source": [
    "<div class=\"alert alert-warning\">\n",
    "<h2> Комментарий ревьюера 🤓<a class=\"tocSkip\"> </h2>\n",
    "\n",
    "Введение, как и общий вывод - важные части твоей работы, на которые в первую очередь обращает внимание заказчик. Введение станет лучше, если ты добавишь в него:\n",
    "* заголовок,\n",
    "\n",
    "* краткое описание проекта,\n",
    "\n",
    "* выделим цель проекта\n",
    "\n",
    "* описание данных\n",
    "\n",
    "* краткий план работы, выделим основные этапы, которые должны сделать.\n",
    "\n",
    "Тогда получатель отчета сможет быстрей его понять.\n",
    "\n",
    "</div>"
   ]
  },
  {
   "cell_type": "markdown",
   "id": "3c25e87c",
   "metadata": {},
   "source": [
    "<div class=\"alert alert-info\"> \n",
    "<b>Комментарий студента:</b> \n",
    "    \n",
    "Спасибо буду уделять этому внимание.\n",
    "\n",
    "</div>"
   ]
  },
  {
   "cell_type": "markdown",
   "id": "ffe86f65",
   "metadata": {
    "deletable": false,
    "editable": false,
    "id": "ffe86f65"
   },
   "source": [
    "Во второй части проекта вы выполните шаги 3 и 4. Их вручную проверит ревьюер.\n",
    "Чтобы вам не пришлось писать код заново для шагов 1 и 2, мы добавили авторские решения в ячейки с кодом. \n",
    "\n"
   ]
  },
  {
   "cell_type": "markdown",
   "id": "26613308",
   "metadata": {
    "deletable": false,
    "editable": false,
    "id": "26613308"
   },
   "source": [
    "## Откройте таблицу и изучите общую информацию о данных"
   ]
  },
  {
   "cell_type": "markdown",
   "id": "3c9f838e",
   "metadata": {
    "deletable": false,
    "editable": false,
    "id": "3c9f838e"
   },
   "source": [
    "**Задание 1. Импортируйте библиотеку pandas. Считайте данные из csv-файла в датафрейм и сохраните в переменную `data`. Путь к файлу:**\n",
    "\n",
    "`/datasets/data.csv`"
   ]
  },
  {
   "cell_type": "code",
   "execution_count": 1,
   "id": "77a68a90",
   "metadata": {
    "deletable": false,
    "id": "77a68a90"
   },
   "outputs": [],
   "source": [
    "import pandas as pd\n",
    "\n",
    "#data = pd.read_csv('data.csv')\n",
    "\n",
    "try:\n",
    "    data = pd.read_csv('/datasets/data.csv')\n",
    "except:\n",
    "    data = pd.read_csv('https://code.s3.yandex.net/datasets/data.csv')"
   ]
  },
  {
   "cell_type": "markdown",
   "id": "cc8e5e17",
   "metadata": {},
   "source": [
    "<div class=\"alert alert-warning\">\n",
    "<h2> Комментарий ревьюера 🤓<a class=\"tocSkip\"> </h2>\n",
    "Кажется, работа над проектов велась локально и пути к файлам не были изменены на общедоступные. Сейчас я внесу изменения в твой код, но в следующий раз будь внимательней. Стоит писать код таким образом, что бы он запускался и в jupiter hub, и локально без внесения дополнительных правок. Этого можно добиться многими способами. Например, использовать конструкцию ``try-except`` — для путей файлов: ``try`` — пути на локальном компьютере, ``except``  пути на сервере. Или применить библиотеку ``os``:\n",
    "\n",
    "    import os\n",
    "\n",
    "    pth1 = '/folder_1/data.csv'\n",
    "    pth2 = '/folder_2/data.csv'\n",
    "    \n",
    "    if os.path.exists(pth1):\n",
    "        query_1 = pd.read_csv(pth1)\n",
    "    elif os.path.exists(pth2):\n",
    "        query_1 = pd.read_csv(pth2)\n",
    "    else:\n",
    "        print('Something is wrong')"
   ]
  },
  {
   "cell_type": "markdown",
   "id": "c1fff661",
   "metadata": {},
   "source": [
    "<div class=\"alert alert-info\"> <b>Комментарий студента:</b> Правильное замечание)))</div>"
   ]
  },
  {
   "cell_type": "markdown",
   "id": "45365635",
   "metadata": {
    "deletable": false,
    "editable": false,
    "id": "45365635"
   },
   "source": [
    "**Задание 2. Выведите первые 20 строчек датафрейма `data` на экран.**"
   ]
  },
  {
   "cell_type": "code",
   "execution_count": 2,
   "id": "b0451a9a",
   "metadata": {
    "deletable": false,
    "id": "b0451a9a",
    "outputId": "1a8f3ef2-d323-4ec2-ddf7-89670b5944c4"
   },
   "outputs": [
    {
     "data": {
      "text/html": [
       "<div>\n",
       "<style scoped>\n",
       "    .dataframe tbody tr th:only-of-type {\n",
       "        vertical-align: middle;\n",
       "    }\n",
       "\n",
       "    .dataframe tbody tr th {\n",
       "        vertical-align: top;\n",
       "    }\n",
       "\n",
       "    .dataframe thead th {\n",
       "        text-align: right;\n",
       "    }\n",
       "</style>\n",
       "<table border=\"1\" class=\"dataframe\">\n",
       "  <thead>\n",
       "    <tr style=\"text-align: right;\">\n",
       "      <th></th>\n",
       "      <th>children</th>\n",
       "      <th>days_employed</th>\n",
       "      <th>dob_years</th>\n",
       "      <th>education</th>\n",
       "      <th>education_id</th>\n",
       "      <th>family_status</th>\n",
       "      <th>family_status_id</th>\n",
       "      <th>gender</th>\n",
       "      <th>income_type</th>\n",
       "      <th>debt</th>\n",
       "      <th>total_income</th>\n",
       "      <th>purpose</th>\n",
       "    </tr>\n",
       "  </thead>\n",
       "  <tbody>\n",
       "    <tr>\n",
       "      <th>0</th>\n",
       "      <td>1</td>\n",
       "      <td>-8437.673028</td>\n",
       "      <td>42</td>\n",
       "      <td>высшее</td>\n",
       "      <td>0</td>\n",
       "      <td>женат / замужем</td>\n",
       "      <td>0</td>\n",
       "      <td>F</td>\n",
       "      <td>сотрудник</td>\n",
       "      <td>0</td>\n",
       "      <td>253875.639453</td>\n",
       "      <td>покупка жилья</td>\n",
       "    </tr>\n",
       "    <tr>\n",
       "      <th>1</th>\n",
       "      <td>1</td>\n",
       "      <td>-4024.803754</td>\n",
       "      <td>36</td>\n",
       "      <td>среднее</td>\n",
       "      <td>1</td>\n",
       "      <td>женат / замужем</td>\n",
       "      <td>0</td>\n",
       "      <td>F</td>\n",
       "      <td>сотрудник</td>\n",
       "      <td>0</td>\n",
       "      <td>112080.014102</td>\n",
       "      <td>приобретение автомобиля</td>\n",
       "    </tr>\n",
       "    <tr>\n",
       "      <th>2</th>\n",
       "      <td>0</td>\n",
       "      <td>-5623.422610</td>\n",
       "      <td>33</td>\n",
       "      <td>Среднее</td>\n",
       "      <td>1</td>\n",
       "      <td>женат / замужем</td>\n",
       "      <td>0</td>\n",
       "      <td>M</td>\n",
       "      <td>сотрудник</td>\n",
       "      <td>0</td>\n",
       "      <td>145885.952297</td>\n",
       "      <td>покупка жилья</td>\n",
       "    </tr>\n",
       "    <tr>\n",
       "      <th>3</th>\n",
       "      <td>3</td>\n",
       "      <td>-4124.747207</td>\n",
       "      <td>32</td>\n",
       "      <td>среднее</td>\n",
       "      <td>1</td>\n",
       "      <td>женат / замужем</td>\n",
       "      <td>0</td>\n",
       "      <td>M</td>\n",
       "      <td>сотрудник</td>\n",
       "      <td>0</td>\n",
       "      <td>267628.550329</td>\n",
       "      <td>дополнительное образование</td>\n",
       "    </tr>\n",
       "    <tr>\n",
       "      <th>4</th>\n",
       "      <td>0</td>\n",
       "      <td>340266.072047</td>\n",
       "      <td>53</td>\n",
       "      <td>среднее</td>\n",
       "      <td>1</td>\n",
       "      <td>гражданский брак</td>\n",
       "      <td>1</td>\n",
       "      <td>F</td>\n",
       "      <td>пенсионер</td>\n",
       "      <td>0</td>\n",
       "      <td>158616.077870</td>\n",
       "      <td>сыграть свадьбу</td>\n",
       "    </tr>\n",
       "    <tr>\n",
       "      <th>5</th>\n",
       "      <td>0</td>\n",
       "      <td>-926.185831</td>\n",
       "      <td>27</td>\n",
       "      <td>высшее</td>\n",
       "      <td>0</td>\n",
       "      <td>гражданский брак</td>\n",
       "      <td>1</td>\n",
       "      <td>M</td>\n",
       "      <td>компаньон</td>\n",
       "      <td>0</td>\n",
       "      <td>255763.565419</td>\n",
       "      <td>покупка жилья</td>\n",
       "    </tr>\n",
       "    <tr>\n",
       "      <th>6</th>\n",
       "      <td>0</td>\n",
       "      <td>-2879.202052</td>\n",
       "      <td>43</td>\n",
       "      <td>высшее</td>\n",
       "      <td>0</td>\n",
       "      <td>женат / замужем</td>\n",
       "      <td>0</td>\n",
       "      <td>F</td>\n",
       "      <td>компаньон</td>\n",
       "      <td>0</td>\n",
       "      <td>240525.971920</td>\n",
       "      <td>операции с жильем</td>\n",
       "    </tr>\n",
       "    <tr>\n",
       "      <th>7</th>\n",
       "      <td>0</td>\n",
       "      <td>-152.779569</td>\n",
       "      <td>50</td>\n",
       "      <td>СРЕДНЕЕ</td>\n",
       "      <td>1</td>\n",
       "      <td>женат / замужем</td>\n",
       "      <td>0</td>\n",
       "      <td>M</td>\n",
       "      <td>сотрудник</td>\n",
       "      <td>0</td>\n",
       "      <td>135823.934197</td>\n",
       "      <td>образование</td>\n",
       "    </tr>\n",
       "    <tr>\n",
       "      <th>8</th>\n",
       "      <td>2</td>\n",
       "      <td>-6929.865299</td>\n",
       "      <td>35</td>\n",
       "      <td>ВЫСШЕЕ</td>\n",
       "      <td>0</td>\n",
       "      <td>гражданский брак</td>\n",
       "      <td>1</td>\n",
       "      <td>F</td>\n",
       "      <td>сотрудник</td>\n",
       "      <td>0</td>\n",
       "      <td>95856.832424</td>\n",
       "      <td>на проведение свадьбы</td>\n",
       "    </tr>\n",
       "    <tr>\n",
       "      <th>9</th>\n",
       "      <td>0</td>\n",
       "      <td>-2188.756445</td>\n",
       "      <td>41</td>\n",
       "      <td>среднее</td>\n",
       "      <td>1</td>\n",
       "      <td>женат / замужем</td>\n",
       "      <td>0</td>\n",
       "      <td>M</td>\n",
       "      <td>сотрудник</td>\n",
       "      <td>0</td>\n",
       "      <td>144425.938277</td>\n",
       "      <td>покупка жилья для семьи</td>\n",
       "    </tr>\n",
       "    <tr>\n",
       "      <th>10</th>\n",
       "      <td>2</td>\n",
       "      <td>-4171.483647</td>\n",
       "      <td>36</td>\n",
       "      <td>высшее</td>\n",
       "      <td>0</td>\n",
       "      <td>женат / замужем</td>\n",
       "      <td>0</td>\n",
       "      <td>M</td>\n",
       "      <td>компаньон</td>\n",
       "      <td>0</td>\n",
       "      <td>113943.491460</td>\n",
       "      <td>покупка недвижимости</td>\n",
       "    </tr>\n",
       "    <tr>\n",
       "      <th>11</th>\n",
       "      <td>0</td>\n",
       "      <td>-792.701887</td>\n",
       "      <td>40</td>\n",
       "      <td>среднее</td>\n",
       "      <td>1</td>\n",
       "      <td>женат / замужем</td>\n",
       "      <td>0</td>\n",
       "      <td>F</td>\n",
       "      <td>сотрудник</td>\n",
       "      <td>0</td>\n",
       "      <td>77069.234271</td>\n",
       "      <td>покупка коммерческой недвижимости</td>\n",
       "    </tr>\n",
       "    <tr>\n",
       "      <th>12</th>\n",
       "      <td>0</td>\n",
       "      <td>NaN</td>\n",
       "      <td>65</td>\n",
       "      <td>среднее</td>\n",
       "      <td>1</td>\n",
       "      <td>гражданский брак</td>\n",
       "      <td>1</td>\n",
       "      <td>M</td>\n",
       "      <td>пенсионер</td>\n",
       "      <td>0</td>\n",
       "      <td>NaN</td>\n",
       "      <td>сыграть свадьбу</td>\n",
       "    </tr>\n",
       "    <tr>\n",
       "      <th>13</th>\n",
       "      <td>0</td>\n",
       "      <td>-1846.641941</td>\n",
       "      <td>54</td>\n",
       "      <td>неоконченное высшее</td>\n",
       "      <td>2</td>\n",
       "      <td>женат / замужем</td>\n",
       "      <td>0</td>\n",
       "      <td>F</td>\n",
       "      <td>сотрудник</td>\n",
       "      <td>0</td>\n",
       "      <td>130458.228857</td>\n",
       "      <td>приобретение автомобиля</td>\n",
       "    </tr>\n",
       "    <tr>\n",
       "      <th>14</th>\n",
       "      <td>0</td>\n",
       "      <td>-1844.956182</td>\n",
       "      <td>56</td>\n",
       "      <td>высшее</td>\n",
       "      <td>0</td>\n",
       "      <td>гражданский брак</td>\n",
       "      <td>1</td>\n",
       "      <td>F</td>\n",
       "      <td>компаньон</td>\n",
       "      <td>1</td>\n",
       "      <td>165127.911772</td>\n",
       "      <td>покупка жилой недвижимости</td>\n",
       "    </tr>\n",
       "    <tr>\n",
       "      <th>15</th>\n",
       "      <td>1</td>\n",
       "      <td>-972.364419</td>\n",
       "      <td>26</td>\n",
       "      <td>среднее</td>\n",
       "      <td>1</td>\n",
       "      <td>женат / замужем</td>\n",
       "      <td>0</td>\n",
       "      <td>F</td>\n",
       "      <td>сотрудник</td>\n",
       "      <td>0</td>\n",
       "      <td>116820.904450</td>\n",
       "      <td>строительство собственной недвижимости</td>\n",
       "    </tr>\n",
       "    <tr>\n",
       "      <th>16</th>\n",
       "      <td>0</td>\n",
       "      <td>-1719.934226</td>\n",
       "      <td>35</td>\n",
       "      <td>среднее</td>\n",
       "      <td>1</td>\n",
       "      <td>женат / замужем</td>\n",
       "      <td>0</td>\n",
       "      <td>F</td>\n",
       "      <td>сотрудник</td>\n",
       "      <td>0</td>\n",
       "      <td>289202.704229</td>\n",
       "      <td>недвижимость</td>\n",
       "    </tr>\n",
       "    <tr>\n",
       "      <th>17</th>\n",
       "      <td>0</td>\n",
       "      <td>-2369.999720</td>\n",
       "      <td>33</td>\n",
       "      <td>высшее</td>\n",
       "      <td>0</td>\n",
       "      <td>гражданский брак</td>\n",
       "      <td>1</td>\n",
       "      <td>M</td>\n",
       "      <td>сотрудник</td>\n",
       "      <td>0</td>\n",
       "      <td>90410.586745</td>\n",
       "      <td>строительство недвижимости</td>\n",
       "    </tr>\n",
       "    <tr>\n",
       "      <th>18</th>\n",
       "      <td>0</td>\n",
       "      <td>400281.136913</td>\n",
       "      <td>53</td>\n",
       "      <td>среднее</td>\n",
       "      <td>1</td>\n",
       "      <td>вдовец / вдова</td>\n",
       "      <td>2</td>\n",
       "      <td>F</td>\n",
       "      <td>пенсионер</td>\n",
       "      <td>0</td>\n",
       "      <td>56823.777243</td>\n",
       "      <td>на покупку подержанного автомобиля</td>\n",
       "    </tr>\n",
       "    <tr>\n",
       "      <th>19</th>\n",
       "      <td>0</td>\n",
       "      <td>-10038.818549</td>\n",
       "      <td>48</td>\n",
       "      <td>СРЕДНЕЕ</td>\n",
       "      <td>1</td>\n",
       "      <td>в разводе</td>\n",
       "      <td>3</td>\n",
       "      <td>F</td>\n",
       "      <td>сотрудник</td>\n",
       "      <td>0</td>\n",
       "      <td>242831.107982</td>\n",
       "      <td>на покупку своего автомобиля</td>\n",
       "    </tr>\n",
       "  </tbody>\n",
       "</table>\n",
       "</div>"
      ],
      "text/plain": [
       "    children  days_employed  dob_years            education  education_id  \\\n",
       "0          1   -8437.673028         42               высшее             0   \n",
       "1          1   -4024.803754         36              среднее             1   \n",
       "2          0   -5623.422610         33              Среднее             1   \n",
       "3          3   -4124.747207         32              среднее             1   \n",
       "4          0  340266.072047         53              среднее             1   \n",
       "5          0    -926.185831         27               высшее             0   \n",
       "6          0   -2879.202052         43               высшее             0   \n",
       "7          0    -152.779569         50              СРЕДНЕЕ             1   \n",
       "8          2   -6929.865299         35               ВЫСШЕЕ             0   \n",
       "9          0   -2188.756445         41              среднее             1   \n",
       "10         2   -4171.483647         36               высшее             0   \n",
       "11         0    -792.701887         40              среднее             1   \n",
       "12         0            NaN         65              среднее             1   \n",
       "13         0   -1846.641941         54  неоконченное высшее             2   \n",
       "14         0   -1844.956182         56               высшее             0   \n",
       "15         1    -972.364419         26              среднее             1   \n",
       "16         0   -1719.934226         35              среднее             1   \n",
       "17         0   -2369.999720         33               высшее             0   \n",
       "18         0  400281.136913         53              среднее             1   \n",
       "19         0  -10038.818549         48              СРЕДНЕЕ             1   \n",
       "\n",
       "       family_status  family_status_id gender income_type  debt  \\\n",
       "0    женат / замужем                 0      F   сотрудник     0   \n",
       "1    женат / замужем                 0      F   сотрудник     0   \n",
       "2    женат / замужем                 0      M   сотрудник     0   \n",
       "3    женат / замужем                 0      M   сотрудник     0   \n",
       "4   гражданский брак                 1      F   пенсионер     0   \n",
       "5   гражданский брак                 1      M   компаньон     0   \n",
       "6    женат / замужем                 0      F   компаньон     0   \n",
       "7    женат / замужем                 0      M   сотрудник     0   \n",
       "8   гражданский брак                 1      F   сотрудник     0   \n",
       "9    женат / замужем                 0      M   сотрудник     0   \n",
       "10   женат / замужем                 0      M   компаньон     0   \n",
       "11   женат / замужем                 0      F   сотрудник     0   \n",
       "12  гражданский брак                 1      M   пенсионер     0   \n",
       "13   женат / замужем                 0      F   сотрудник     0   \n",
       "14  гражданский брак                 1      F   компаньон     1   \n",
       "15   женат / замужем                 0      F   сотрудник     0   \n",
       "16   женат / замужем                 0      F   сотрудник     0   \n",
       "17  гражданский брак                 1      M   сотрудник     0   \n",
       "18    вдовец / вдова                 2      F   пенсионер     0   \n",
       "19         в разводе                 3      F   сотрудник     0   \n",
       "\n",
       "     total_income                                 purpose  \n",
       "0   253875.639453                           покупка жилья  \n",
       "1   112080.014102                 приобретение автомобиля  \n",
       "2   145885.952297                           покупка жилья  \n",
       "3   267628.550329              дополнительное образование  \n",
       "4   158616.077870                         сыграть свадьбу  \n",
       "5   255763.565419                           покупка жилья  \n",
       "6   240525.971920                       операции с жильем  \n",
       "7   135823.934197                             образование  \n",
       "8    95856.832424                   на проведение свадьбы  \n",
       "9   144425.938277                 покупка жилья для семьи  \n",
       "10  113943.491460                    покупка недвижимости  \n",
       "11   77069.234271       покупка коммерческой недвижимости  \n",
       "12            NaN                         сыграть свадьбу  \n",
       "13  130458.228857                 приобретение автомобиля  \n",
       "14  165127.911772              покупка жилой недвижимости  \n",
       "15  116820.904450  строительство собственной недвижимости  \n",
       "16  289202.704229                            недвижимость  \n",
       "17   90410.586745              строительство недвижимости  \n",
       "18   56823.777243      на покупку подержанного автомобиля  \n",
       "19  242831.107982            на покупку своего автомобиля  "
      ]
     },
     "execution_count": 2,
     "metadata": {},
     "output_type": "execute_result"
    }
   ],
   "source": [
    "data.head(20)"
   ]
  },
  {
   "cell_type": "markdown",
   "id": "0ed8f27f",
   "metadata": {
    "deletable": false,
    "editable": false,
    "id": "0ed8f27f"
   },
   "source": [
    "**Задание 3. Выведите основную информацию о датафрейме с помощью метода `info()`.**"
   ]
  },
  {
   "cell_type": "code",
   "execution_count": 3,
   "id": "ab3f863b",
   "metadata": {
    "deletable": false,
    "id": "ab3f863b",
    "outputId": "15376089-8dad-46c9-b520-c05248d43158"
   },
   "outputs": [
    {
     "name": "stdout",
     "output_type": "stream",
     "text": [
      "<class 'pandas.core.frame.DataFrame'>\n",
      "RangeIndex: 21525 entries, 0 to 21524\n",
      "Data columns (total 12 columns):\n",
      " #   Column            Non-Null Count  Dtype  \n",
      "---  ------            --------------  -----  \n",
      " 0   children          21525 non-null  int64  \n",
      " 1   days_employed     19351 non-null  float64\n",
      " 2   dob_years         21525 non-null  int64  \n",
      " 3   education         21525 non-null  object \n",
      " 4   education_id      21525 non-null  int64  \n",
      " 5   family_status     21525 non-null  object \n",
      " 6   family_status_id  21525 non-null  int64  \n",
      " 7   gender            21525 non-null  object \n",
      " 8   income_type       21525 non-null  object \n",
      " 9   debt              21525 non-null  int64  \n",
      " 10  total_income      19351 non-null  float64\n",
      " 11  purpose           21525 non-null  object \n",
      "dtypes: float64(2), int64(5), object(5)\n",
      "memory usage: 2.0+ MB\n"
     ]
    }
   ],
   "source": [
    "data.info()"
   ]
  },
  {
   "cell_type": "markdown",
   "id": "60e3e22d",
   "metadata": {
    "deletable": false,
    "editable": false,
    "id": "60e3e22d"
   },
   "source": [
    "## Предобработка данных"
   ]
  },
  {
   "cell_type": "markdown",
   "id": "03dc170c",
   "metadata": {
    "deletable": false,
    "editable": false,
    "id": "03dc170c"
   },
   "source": [
    "### Удаление пропусков"
   ]
  },
  {
   "cell_type": "markdown",
   "id": "a4f54eef",
   "metadata": {
    "deletable": false,
    "editable": false,
    "id": "a4f54eef"
   },
   "source": [
    "**Задание 4. Выведите количество пропущенных значений для каждого столбца. Используйте комбинацию двух методов.**"
   ]
  },
  {
   "cell_type": "code",
   "execution_count": 4,
   "id": "2dc372b2",
   "metadata": {
    "deletable": false,
    "id": "2dc372b2",
    "outputId": "81f4d817-781c-465c-ed15-91ce4446810d"
   },
   "outputs": [
    {
     "data": {
      "text/plain": [
       "children               0\n",
       "days_employed       2174\n",
       "dob_years              0\n",
       "education              0\n",
       "education_id           0\n",
       "family_status          0\n",
       "family_status_id       0\n",
       "gender                 0\n",
       "income_type            0\n",
       "debt                   0\n",
       "total_income        2174\n",
       "purpose                0\n",
       "dtype: int64"
      ]
     },
     "execution_count": 4,
     "metadata": {},
     "output_type": "execute_result"
    }
   ],
   "source": [
    "days_employed_nan = data['days_employed'].isna().sum() # переменная с количеством пропусков столбца Трудовой стаж\n",
    "total_income_nan = data['total_income'].isna().sum() # переменная с количеством пропусков столбца ежемесячный доход\n",
    "\n",
    "\n",
    "data.isna().sum()"
   ]
  },
  {
   "cell_type": "markdown",
   "id": "14f011b1",
   "metadata": {
    "deletable": false,
    "editable": false,
    "id": "14f011b1"
   },
   "source": [
    "**Задание 5. В двух столбцах есть пропущенные значения. Один из них — `days_employed`. Пропуски в этом столбце вы обработаете на следующем этапе. Другой столбец с пропущенными значениями — `total_income` — хранит данные о доходах. На сумму дохода сильнее всего влияет тип занятости, поэтому заполнить пропуски в этом столбце нужно медианным значением по каждому типу из столбца `income_type`. Например, у человека с типом занятости `сотрудник` пропуск в столбце `total_income` должен быть заполнен медианным доходом среди всех записей с тем же типом.**"
   ]
  },
  {
   "cell_type": "code",
   "execution_count": 5,
   "id": "bdabfb6e",
   "metadata": {
    "deletable": false,
    "id": "bdabfb6e"
   },
   "outputs": [],
   "source": [
    "for t in data['income_type'].unique():\n",
    "    data.loc[(data['income_type'] == t) & (data['total_income'].isna()), 'total_income'] = \\\n",
    "    data.loc[(data['income_type'] == t), 'total_income'].median()"
   ]
  },
  {
   "cell_type": "markdown",
   "id": "5be34059",
   "metadata": {
    "deletable": false,
    "editable": false,
    "id": "5be34059"
   },
   "source": [
    "### Обработка аномальных значений"
   ]
  },
  {
   "cell_type": "markdown",
   "id": "a87606cb",
   "metadata": {
    "deletable": false,
    "editable": false,
    "id": "a87606cb"
   },
   "source": [
    "**Задание 6. В данных могут встречаться артефакты (аномалии) — значения, которые не отражают действительность и появились по какой-то ошибке. таким артефактом будет отрицательное количество дней трудового стажа в столбце `days_employed`. Для реальных данных это нормально. Обработайте значения в этом столбце: замените все отрицательные значения положительными с помощью метода `abs()`.**"
   ]
  },
  {
   "cell_type": "code",
   "execution_count": 6,
   "id": "020c46cc",
   "metadata": {
    "deletable": false,
    "id": "020c46cc"
   },
   "outputs": [],
   "source": [
    "data['days_employed'] = data['days_employed'].abs()"
   ]
  },
  {
   "cell_type": "markdown",
   "id": "45538a3a",
   "metadata": {
    "deletable": false,
    "editable": false,
    "id": "45538a3a"
   },
   "source": [
    "**Задание 7. Для каждого типа занятости выведите медианное значение трудового стажа `days_employed` в днях.**"
   ]
  },
  {
   "cell_type": "code",
   "execution_count": 7,
   "id": "cd3e6328",
   "metadata": {
    "deletable": false,
    "id": "cd3e6328",
    "outputId": "801ef80e-522b-4668-f34e-565af7432bcf"
   },
   "outputs": [
    {
     "data": {
      "text/plain": [
       "income_type\n",
       "безработный        366413.652744\n",
       "в декрете            3296.759962\n",
       "госслужащий          2689.368353\n",
       "компаньон            1547.382223\n",
       "пенсионер          365213.306266\n",
       "предприниматель       520.848083\n",
       "сотрудник            1574.202821\n",
       "студент               578.751554\n",
       "Name: days_employed, dtype: float64"
      ]
     },
     "execution_count": 7,
     "metadata": {},
     "output_type": "execute_result"
    }
   ],
   "source": [
    "data.groupby('income_type')['days_employed'].agg('median')"
   ]
  },
  {
   "cell_type": "markdown",
   "id": "90c5f058",
   "metadata": {
    "deletable": false,
    "editable": false,
    "id": "90c5f058"
   },
   "source": [
    "У двух типов (безработные и пенсионеры) получатся аномально большие значения. Исправить такие значения сложно, поэтому оставьте их как есть."
   ]
  },
  {
   "cell_type": "markdown",
   "id": "9652e50d",
   "metadata": {
    "deletable": false,
    "editable": false,
    "id": "9652e50d"
   },
   "source": [
    "**Задание 8. Выведите перечень уникальных значений столбца `children`.**"
   ]
  },
  {
   "cell_type": "code",
   "execution_count": 8,
   "id": "dbb37b8e",
   "metadata": {
    "deletable": false,
    "id": "dbb37b8e",
    "outputId": "6975b15c-7f95-4697-d16d-a0c79b657b03"
   },
   "outputs": [
    {
     "data": {
      "text/plain": [
       "array([ 1,  0,  3,  2, -1,  4, 20,  5])"
      ]
     },
     "execution_count": 8,
     "metadata": {},
     "output_type": "execute_result"
    }
   ],
   "source": [
    "data['children'].unique()"
   ]
  },
  {
   "cell_type": "markdown",
   "id": "2b8b0715",
   "metadata": {
    "deletable": false,
    "editable": false,
    "id": "2b8b0715"
   },
   "source": [
    "**Задание 9. В столбце `children` есть два аномальных значения. Удалите строки, в которых встречаются такие аномальные значения из датафрейма `data`.**"
   ]
  },
  {
   "cell_type": "code",
   "execution_count": 9,
   "id": "20009df8",
   "metadata": {
    "deletable": false,
    "id": "20009df8"
   },
   "outputs": [],
   "source": [
    "data = data[(data['children'] != -1) & (data['children'] != 20)]"
   ]
  },
  {
   "cell_type": "markdown",
   "id": "8c6ac9f1",
   "metadata": {
    "deletable": false,
    "editable": false,
    "id": "8c6ac9f1"
   },
   "source": [
    "**Задание 10. Ещё раз выведите перечень уникальных значений столбца `children`, чтобы убедиться, что артефакты удалены.**"
   ]
  },
  {
   "cell_type": "code",
   "execution_count": 10,
   "id": "07337b81",
   "metadata": {
    "deletable": false,
    "id": "07337b81",
    "outputId": "b2097101-d49d-44d9-901b-32a65c9463d1"
   },
   "outputs": [
    {
     "data": {
      "text/plain": [
       "array([1, 0, 3, 2, 4, 5])"
      ]
     },
     "execution_count": 10,
     "metadata": {},
     "output_type": "execute_result"
    }
   ],
   "source": [
    "data['children'].unique()"
   ]
  },
  {
   "cell_type": "markdown",
   "id": "ee3f52d4",
   "metadata": {
    "deletable": false,
    "editable": false,
    "id": "ee3f52d4"
   },
   "source": [
    "### Удаление пропусков (продолжение)"
   ]
  },
  {
   "cell_type": "markdown",
   "id": "a700b0e4",
   "metadata": {
    "deletable": false,
    "editable": false,
    "id": "a700b0e4"
   },
   "source": [
    "**Задание 11. Заполните пропуски в столбце `days_employed` медианными значениями по каждого типа занятости `income_type`.**"
   ]
  },
  {
   "cell_type": "code",
   "execution_count": 11,
   "id": "61946b83",
   "metadata": {
    "deletable": false,
    "id": "61946b83"
   },
   "outputs": [],
   "source": [
    "for t in data['income_type'].unique():\n",
    "    data.loc[(data['income_type'] == t) & (data['days_employed'].isna()), 'days_employed'] = \\\n",
    "    data.loc[(data['income_type'] == t), 'days_employed'].median()"
   ]
  },
  {
   "cell_type": "markdown",
   "id": "550dcd9b",
   "metadata": {
    "deletable": false,
    "editable": false,
    "id": "550dcd9b"
   },
   "source": [
    "**Задание 12. Убедитесь, что все пропуски заполнены. Проверьте себя и ещё раз выведите количество пропущенных значений для каждого столбца с помощью двух методов.**"
   ]
  },
  {
   "cell_type": "code",
   "execution_count": 12,
   "id": "937c7014",
   "metadata": {
    "deletable": false,
    "id": "937c7014",
    "outputId": "8da1e4e1-358e-4e87-98c9-f261bce0a7b2"
   },
   "outputs": [
    {
     "data": {
      "text/plain": [
       "children            0\n",
       "days_employed       0\n",
       "dob_years           0\n",
       "education           0\n",
       "education_id        0\n",
       "family_status       0\n",
       "family_status_id    0\n",
       "gender              0\n",
       "income_type         0\n",
       "debt                0\n",
       "total_income        0\n",
       "purpose             0\n",
       "dtype: int64"
      ]
     },
     "execution_count": 12,
     "metadata": {},
     "output_type": "execute_result"
    }
   ],
   "source": [
    "data.isna().sum()"
   ]
  },
  {
   "cell_type": "markdown",
   "id": "d522e295",
   "metadata": {
    "deletable": false,
    "editable": false,
    "id": "d522e295"
   },
   "source": [
    "### Изменение типов данных"
   ]
  },
  {
   "cell_type": "markdown",
   "id": "c229c581",
   "metadata": {
    "deletable": false,
    "editable": false,
    "id": "c229c581"
   },
   "source": [
    "**Задание 13. Замените вещественный тип данных в столбце `total_income` на целочисленный с помощью метода `astype()`.**"
   ]
  },
  {
   "cell_type": "code",
   "execution_count": 13,
   "id": "31036462",
   "metadata": {
    "deletable": false,
    "id": "31036462"
   },
   "outputs": [],
   "source": [
    "data['total_income'] = data['total_income'].astype(int)"
   ]
  },
  {
   "cell_type": "markdown",
   "id": "b8e3d1d9",
   "metadata": {
    "deletable": false,
    "editable": false,
    "id": "b8e3d1d9"
   },
   "source": [
    "### Обработка дубликатов"
   ]
  },
  {
   "cell_type": "markdown",
   "id": "9be53c49",
   "metadata": {
    "deletable": false,
    "editable": false,
    "id": "9be53c49"
   },
   "source": [
    "**Задание 14. Обработайте неявные дубликаты в столбце `education`. В этом столбце есть одни и те же значения, но записанные по-разному: с использованием заглавных и строчных букв. Приведите их к нижнему регистру.**"
   ]
  },
  {
   "cell_type": "code",
   "execution_count": 14,
   "id": "d89e73e1",
   "metadata": {
    "deletable": false,
    "id": "d89e73e1"
   },
   "outputs": [],
   "source": [
    "data['education'] = data['education'].str.lower()"
   ]
  },
  {
   "cell_type": "markdown",
   "id": "01d4500e",
   "metadata": {
    "deletable": false,
    "editable": false,
    "id": "01d4500e"
   },
   "source": [
    "**Задание 15. Выведите на экран количество строк-дубликатов в данных. Если такие строки присутствуют, удалите их.**"
   ]
  },
  {
   "cell_type": "code",
   "execution_count": 15,
   "id": "e10efb23",
   "metadata": {
    "deletable": false,
    "id": "e10efb23",
    "outputId": "9684deba-1934-42d1-99e1-cda61740f822"
   },
   "outputs": [
    {
     "data": {
      "text/plain": [
       "71"
      ]
     },
     "execution_count": 15,
     "metadata": {},
     "output_type": "execute_result"
    }
   ],
   "source": [
    "data.duplicated().sum()"
   ]
  },
  {
   "cell_type": "code",
   "execution_count": 16,
   "id": "df853f20",
   "metadata": {
    "deletable": false,
    "id": "df853f20"
   },
   "outputs": [],
   "source": [
    "data = data.drop_duplicates()"
   ]
  },
  {
   "cell_type": "markdown",
   "id": "627be38f",
   "metadata": {
    "deletable": false,
    "editable": false,
    "id": "627be38f"
   },
   "source": [
    "### Категоризация данных"
   ]
  },
  {
   "cell_type": "markdown",
   "id": "4684c3e0",
   "metadata": {
    "deletable": false,
    "editable": false,
    "id": "4684c3e0"
   },
   "source": [
    "**Задание 16. На основании диапазонов, указанных ниже, создайте в датафрейме `data` столбец `total_income_category` с категориями:**\n",
    "\n",
    "- 0–30000 — `'E'`;\n",
    "- 30001–50000 — `'D'`;\n",
    "- 50001–200000 — `'C'`;\n",
    "- 200001–1000000 — `'B'`;\n",
    "- 1000001 и выше — `'A'`.\n",
    "\n",
    "\n",
    "**Например, кредитополучателю с доходом 25000 нужно назначить категорию `'E'`, а клиенту, получающему 235000, — `'B'`. Используйте собственную функцию с именем `categorize_income()` и метод `apply()`.**"
   ]
  },
  {
   "cell_type": "code",
   "execution_count": 17,
   "id": "78965238",
   "metadata": {
    "deletable": false,
    "id": "78965238"
   },
   "outputs": [],
   "source": [
    "def categorize_income(income):\n",
    "    try:\n",
    "        if 0 <= income <= 30000:\n",
    "            return 'E'\n",
    "        elif 30001 <= income <= 50000:\n",
    "            return 'D'\n",
    "        elif 50001 <= income <= 200000:\n",
    "            return 'C'\n",
    "        elif 200001 <= income <= 1000000:\n",
    "            return 'B'\n",
    "        elif income >= 1000001:\n",
    "            return 'A'\n",
    "    except:\n",
    "        pass"
   ]
  },
  {
   "cell_type": "code",
   "execution_count": 18,
   "id": "0980ada1",
   "metadata": {
    "deletable": false,
    "id": "0980ada1"
   },
   "outputs": [],
   "source": [
    "data['total_income_category'] = data['total_income'].apply(categorize_income)"
   ]
  },
  {
   "cell_type": "markdown",
   "id": "9917bba0",
   "metadata": {
    "deletable": false,
    "editable": false,
    "id": "9917bba0"
   },
   "source": [
    "**Задание 17. Выведите на экран перечень уникальных целей взятия кредита из столбца `purpose`.**"
   ]
  },
  {
   "cell_type": "code",
   "execution_count": 19,
   "id": "ee07b65e",
   "metadata": {
    "deletable": false,
    "id": "ee07b65e",
    "outputId": "673c12d9-7d7e-4ae0-9812-c622c89dd244"
   },
   "outputs": [
    {
     "data": {
      "text/plain": [
       "array(['покупка жилья', 'приобретение автомобиля',\n",
       "       'дополнительное образование', 'сыграть свадьбу',\n",
       "       'операции с жильем', 'образование', 'на проведение свадьбы',\n",
       "       'покупка жилья для семьи', 'покупка недвижимости',\n",
       "       'покупка коммерческой недвижимости', 'покупка жилой недвижимости',\n",
       "       'строительство собственной недвижимости', 'недвижимость',\n",
       "       'строительство недвижимости', 'на покупку подержанного автомобиля',\n",
       "       'на покупку своего автомобиля',\n",
       "       'операции с коммерческой недвижимостью',\n",
       "       'строительство жилой недвижимости', 'жилье',\n",
       "       'операции со своей недвижимостью', 'автомобили',\n",
       "       'заняться образованием', 'сделка с подержанным автомобилем',\n",
       "       'получение образования', 'автомобиль', 'свадьба',\n",
       "       'получение дополнительного образования', 'покупка своего жилья',\n",
       "       'операции с недвижимостью', 'получение высшего образования',\n",
       "       'свой автомобиль', 'сделка с автомобилем',\n",
       "       'профильное образование', 'высшее образование',\n",
       "       'покупка жилья для сдачи', 'на покупку автомобиля', 'ремонт жилью',\n",
       "       'заняться высшим образованием'], dtype=object)"
      ]
     },
     "execution_count": 19,
     "metadata": {},
     "output_type": "execute_result"
    }
   ],
   "source": [
    "data['purpose'].unique()"
   ]
  },
  {
   "cell_type": "markdown",
   "id": "52b79d56",
   "metadata": {
    "deletable": false,
    "editable": false,
    "id": "52b79d56"
   },
   "source": [
    "**Задание 18. Создайте функцию, которая на основании данных из столбца `purpose` сформирует новый столбец `purpose_category`, в который войдут следующие категории:**\n",
    "\n",
    "- `'операции с автомобилем'`,\n",
    "- `'операции с недвижимостью'`,\n",
    "- `'проведение свадьбы'`,\n",
    "- `'получение образования'`.\n",
    "\n",
    "**Например, если в столбце `purpose` находится подстрока `'на покупку автомобиля'`, то в столбце `purpose_category` должна появиться строка `'операции с автомобилем'`.**\n",
    "\n",
    "**Используйте собственную функцию с именем `categorize_purpose()` и метод `apply()`. Изучите данные в столбце `purpose` и определите, какие подстроки помогут вам правильно определить категорию.**"
   ]
  },
  {
   "cell_type": "code",
   "execution_count": 20,
   "id": "be41da5d",
   "metadata": {
    "deletable": false,
    "id": "be41da5d"
   },
   "outputs": [],
   "source": [
    "def categorize_purpose(row):\n",
    "    try:\n",
    "        if 'автом' in row:\n",
    "            return 'операции с автомобилем'\n",
    "        elif 'жил' in row or 'недвиж' in row:\n",
    "            return 'операции с недвижимостью'\n",
    "        elif 'свад' in row:\n",
    "            return 'проведение свадьбы'\n",
    "        elif 'образов' in row:\n",
    "            return 'получение образования'\n",
    "    except:\n",
    "        return 'нет категории'"
   ]
  },
  {
   "cell_type": "code",
   "execution_count": 21,
   "id": "94c4a19a",
   "metadata": {
    "deletable": false,
    "id": "94c4a19a"
   },
   "outputs": [],
   "source": [
    "data['purpose_category'] = data['purpose'].apply(categorize_purpose)"
   ]
  },
  {
   "cell_type": "markdown",
   "id": "3d596c34",
   "metadata": {
    "deletable": false,
    "editable": false,
    "id": "3d596c34"
   },
   "source": [
    "### Шаг 3. Исследуйте данные и ответьте на вопросы"
   ]
  },
  {
   "cell_type": "markdown",
   "id": "648db036",
   "metadata": {
    "deletable": false,
    "editable": false,
    "id": "648db036"
   },
   "source": [
    "#### 3.1 Есть ли зависимость между количеством детей и возвратом кредита в срок?"
   ]
  },
  {
   "cell_type": "code",
   "execution_count": 22,
   "id": "7fcff25e",
   "metadata": {
    "deletable": false,
    "id": "7fcff25e"
   },
   "outputs": [
    {
     "data": {
      "text/html": [
       "<div>\n",
       "<style scoped>\n",
       "    .dataframe tbody tr th:only-of-type {\n",
       "        vertical-align: middle;\n",
       "    }\n",
       "\n",
       "    .dataframe tbody tr th {\n",
       "        vertical-align: top;\n",
       "    }\n",
       "\n",
       "    .dataframe thead th {\n",
       "        text-align: right;\n",
       "    }\n",
       "</style>\n",
       "<table border=\"1\" class=\"dataframe\">\n",
       "  <thead>\n",
       "    <tr style=\"text-align: right;\">\n",
       "      <th></th>\n",
       "      <th>total</th>\n",
       "      <th>debt</th>\n",
       "      <th>%</th>\n",
       "    </tr>\n",
       "    <tr>\n",
       "      <th>children</th>\n",
       "      <th></th>\n",
       "      <th></th>\n",
       "      <th></th>\n",
       "    </tr>\n",
       "  </thead>\n",
       "  <tbody>\n",
       "    <tr>\n",
       "      <th>0</th>\n",
       "      <td>14091</td>\n",
       "      <td>1063</td>\n",
       "      <td>7.543822</td>\n",
       "    </tr>\n",
       "    <tr>\n",
       "      <th>1</th>\n",
       "      <td>4808</td>\n",
       "      <td>444</td>\n",
       "      <td>9.234609</td>\n",
       "    </tr>\n",
       "    <tr>\n",
       "      <th>2</th>\n",
       "      <td>2052</td>\n",
       "      <td>194</td>\n",
       "      <td>9.454191</td>\n",
       "    </tr>\n",
       "    <tr>\n",
       "      <th>3</th>\n",
       "      <td>330</td>\n",
       "      <td>27</td>\n",
       "      <td>8.181818</td>\n",
       "    </tr>\n",
       "    <tr>\n",
       "      <th>4</th>\n",
       "      <td>41</td>\n",
       "      <td>4</td>\n",
       "      <td>9.756098</td>\n",
       "    </tr>\n",
       "    <tr>\n",
       "      <th>5</th>\n",
       "      <td>9</td>\n",
       "      <td>0</td>\n",
       "      <td>0.000000</td>\n",
       "    </tr>\n",
       "  </tbody>\n",
       "</table>\n",
       "</div>"
      ],
      "text/plain": [
       "          total  debt         %\n",
       "children                       \n",
       "0         14091  1063  7.543822\n",
       "1          4808   444  9.234609\n",
       "2          2052   194  9.454191\n",
       "3           330    27  8.181818\n",
       "4            41     4  9.756098\n",
       "5             9     0  0.000000"
      ]
     },
     "execution_count": 22,
     "metadata": {},
     "output_type": "execute_result"
    }
   ],
   "source": [
    "\n",
    "#print(data.groupby('children')['debt'].sum() / data.groupby('children')['children'].count() * 100) \n",
    "\n",
    "# выведем на экран соотношение в процентах по группам имеющих задолженность с общим количеством клиентов без детей и сдетьмы и их количеством\n",
    "\n",
    "child_debt = data.groupby('children').agg({'debt':['count','sum']}) #группировка списка по количеству детей и подсчет числа в группе и суммы дебиторов\n",
    "child_debt.columns = ['total','debt']\n",
    "child_debt['%'] = child_debt['debt'] / child_debt['total'] * 100\n",
    "child_debt\n",
    "\n",
    "\n",
    "\n",
    "# Ваш код будет здесь. Вы можете создавать новые ячейки.\n",
    "\n"
   ]
  },
  {
   "cell_type": "markdown",
   "id": "39d261bc",
   "metadata": {},
   "source": [
    "<div class=\"alert alert-warning\">\n",
    "<h2> Комментарий ревьюера 🤓 v_2 <a class=\"tocSkip\"> </h2>\n",
    "\n",
    "Столбец '%' можно еще рассчитать как среднее (`mean`), это и будет наша доля должников по каждой категории."
   ]
  },
  {
   "cell_type": "code",
   "execution_count": 27,
   "id": "898ade65",
   "metadata": {},
   "outputs": [
    {
     "name": "stdout",
     "output_type": "stream",
     "text": [
      "           debt                \n",
      "          count   sum      mean\n",
      "children                       \n",
      "0         14091  1063  0.075438\n",
      "1          4808   444  0.092346\n",
      "2          2052   194  0.094542\n",
      "3           330    27  0.081818\n",
      "4            41     4  0.097561\n",
      "5             9     0  0.000000\n"
     ]
    }
   ],
   "source": [
    "print(data.groupby('children').agg({'debt':['count','sum','mean']}))"
   ]
  },
  {
   "cell_type": "markdown",
   "id": "b6ca927e",
   "metadata": {},
   "source": [
    "<div class=\"alert alert-info\"> <b>Комментарий студента:</b> точно, сработало и все в одну строчку</div>\n"
   ]
  },
  {
   "cell_type": "markdown",
   "id": "1935ce0b",
   "metadata": {},
   "source": [
    "<div class=\"alert alert-warning\">\n",
    "<h2> Комментарий ревьюера 🤓 v_2 <a class=\"tocSkip\"> </h2>\n",
    "\n",
    "Только 'count' тоже следует оставить)"
   ]
  },
  {
   "cell_type": "markdown",
   "id": "2eb9088e",
   "metadata": {
    "deletable": false,
    "id": "2eb9088e"
   },
   "source": [
    "**Вывод:** \n",
    "\n",
    "    Получил данные о 21331 клиенте, из которых 14091 не имеют детей и 7240 с детьми.\n",
    "\n",
    "    Из них:\n",
    "    - 4808 - с одним ребенком,\n",
    "    - 2052 - двое детей,\n",
    "    - 330 - трое детей,\n",
    "    - 41 - четверо детей,\n",
    "    - 9 - имеют пятерых детей.\n",
    "\n",
    "    Получил долю плательщиков имеющих задержками по платежам, среди этих категорий   \n",
    "   \n",
    "    - 7.54% - без детей\n",
    "    - 9,23% - с одним ребенком,\n",
    "    - 9,45% - двое детей,\n",
    "    - 8,18% - трое детей,\n",
    "    - 9,75% - четверо детей,\n",
    "    - 0% - имеют пятерых детей.\n",
    "    \n",
    "    Могу утверждать что зависимость между количеством детей и возвратом кредита в срок не наблюдается. \n",
    "    Видно полностью вовремя погашенную задолженность у клиентов с пятью детьми, но данных слишком мало для получения полной картины.\n",
    "    Важно отметить клиенты без детей (7,54%) не смотря на более высокую долю присутствия имеют лучшую статистику по возвратам кредита вовремя.\n",
    "    "
   ]
  },
  {
   "cell_type": "markdown",
   "id": "35f3e871",
   "metadata": {},
   "source": [
    "<div class=\"alert alert-block alert-danger\">\n",
    "<h2> Комментарий ревьюера ⛔️<a class=\"tocSkip\"></h2>\n",
    "<s>\n",
    "В данном пункте кол-ва заемщиков по категориям с 3-мя и более детьми недостаточно для достоверных выводов. А если рассмотреть самые многочисленные выборки с 0, 1 и 2-мя детьми - можно увидеть, что чем больше у заемщика детей, тем он хуже платит в срок."
   ]
  },
  {
   "cell_type": "markdown",
   "id": "5cf47473",
   "metadata": {},
   "source": [
    "<div class=\"alert alert-info\"> <b>Комментарий студента:</b> \n",
    "\n",
    "Все верно! Главное, в случае с уровнем дохода обратил внимание на выработку а тут нет.\n",
    "\n",
    "**Вывод2:** \n",
    "\n",
    "    Получил данные о 21331 клиенте, из которых 14091 не имеют детей и 7240 с детьми.\n",
    "\n",
    "    Из них:\n",
    "    - 4808 - с одним ребенком,\n",
    "    - 2052 - двое детей,\n",
    "    - 330 - трое детей,\n",
    "    - 41 - четверо детей,\n",
    "    - 9 - имеют пятерых детей.\n",
    "\n",
    "    Получил долю плательщиков имеющих задержками по платежам, среди этих категорий   \n",
    "   \n",
    "    - 7.54% - без детей\n",
    "    - 9,23% - с одним ребенком,\n",
    "    - 9,45% - двое детей,\n",
    "    - 8,18% - трое детей,\n",
    "    - 9,75% - четверо детей,\n",
    "    - 0% - имеют пятерых детей.\n",
    "    \n",
    "    Могу утверждать, что зависимость между количеством детей и возвратом кредита в срок наблюдается у клиентов категорий с 1 и 2-мя детьми, с появлением второго ребенка % риска увеличивается. \n",
    "    Видно полностью вовремя погашенную задолженность у клиентов с пятью детьми, но данных слишком мало для получения полной картины, так же как и в группах с тремя и четырьмя детьми.\n",
    "    Важно отметить клиенты без детей (7,54%) не смотря на более высокую долю присутствия имеют лучшую статистику по возвратам кредита вовремя.\n",
    "    \n",
    "</div>\n"
   ]
  },
  {
   "cell_type": "markdown",
   "id": "d2e75c20",
   "metadata": {},
   "source": [
    "<div class=\"alert alert-success\">\n",
    "<h2> Комментарий ревьюера 😊 v_2 <a class=\"tocSkip\"> </h2>\n",
    "\n",
    "Теперь все отлично) "
   ]
  },
  {
   "cell_type": "markdown",
   "id": "74c9b3a7",
   "metadata": {
    "deletable": false,
    "editable": false,
    "id": "74c9b3a7"
   },
   "source": [
    "#### 3.2 Есть ли зависимость между семейным положением и возвратом кредита в срок?"
   ]
  },
  {
   "cell_type": "code",
   "execution_count": null,
   "id": "8098ab3b",
   "metadata": {
    "deletable": false,
    "id": "8098ab3b"
   },
   "outputs": [],
   "source": [
    "\n",
    "\n",
    "#print(data.groupby('family_status')['debt'].sum() / data.groupby('family_status')['family_status'].count() * 100)\n",
    "# выведем на экран соотношение в процентах по группам имеющих задолженность /\n",
    "#с общим количеством клиентов сгруппировав по семейному положению('family_status')\n",
    "\n",
    "family_status_debt = data.groupby('family_status').agg({'debt':['count','sum']}) #группировка списка по семейному статусу и подсчет числа в группе и суммы дебиторов\n",
    "family_status_debt.columns = ['total','debt']\n",
    "family_status_debt['%'] = family_status_debt['debt'] / family_status_debt['total'] * 100\n",
    "family_status_debt\n",
    "\n",
    "\n",
    "\n",
    "# Ваш код будет здесь. Вы можете создавать новые ячейки."
   ]
  },
  {
   "cell_type": "markdown",
   "id": "c389ca63",
   "metadata": {
    "deletable": false,
    "id": "c389ca63"
   },
   "source": [
    "**Вывод:** \n",
    "    \n",
    "    По семейному положению клиенты делятся и имеют следующий процент не возврата кредита в срок:\n",
    "| Семейное положение        | Количество клиентов | Доля возвратов не вовремя |\n",
    "|---------------------------|---------------------|----------------------------|\n",
    "| женат / замужем           |12261                |7,56%                       |\n",
    "| гражданский брак          |4134                 |9,31%                       |\n",
    "| Не женат / не замужем     |2796                 |9,76%                       |\n",
    "| в разводе                 |1189                 |7,06%                       |\n",
    "| вдовец / вдова            |951                  |6,62%                       |\n",
    "\n",
    "Самая высокая доля не вовремя выплаченных кредитов приходится на `Не женат / не замужем(9,76%)`. И наоборот уменьшается при образовании совместной жизни `гражданский брак(9,31%)` потом семьи `женат / замужем(7,56%)` и после брака в других категориях тоже доля надежных клиентов выше`(до 6,62%)`. Зависимость между семейным положением и возвратом кредита в срок есть.\n"
   ]
  },
  {
   "cell_type": "markdown",
   "id": "d8be0ccf",
   "metadata": {},
   "source": [
    "<div class=\"alert alert-warning\">\n",
    "<h2> Комментарий ревьюера 🤓<a class=\"tocSkip\"> </h2>\n",
    "\n",
    "Можно отметить общую тенденцию, что люди не состоящие в оф. браке склонны к задержкам)"
   ]
  },
  {
   "cell_type": "markdown",
   "id": "b8728c03",
   "metadata": {},
   "source": [
    "<div class=\"alert alert-info\"> <b>Комментарий студента:</b> Согласен если эти люди не были ранее в браке)))</div>\n"
   ]
  },
  {
   "cell_type": "markdown",
   "id": "15b814e0",
   "metadata": {},
   "source": [
    "<div class=\"alert alert-success\">\n",
    "<h2> Комментарий ревьюера 😊 v_2 <a class=\"tocSkip\"> </h2>\n",
    "\n",
    "Да, не состоящие и не состоявшие)"
   ]
  },
  {
   "cell_type": "markdown",
   "id": "9529de68",
   "metadata": {
    "deletable": false,
    "editable": false,
    "id": "9529de68"
   },
   "source": [
    "#### 3.3 Есть ли зависимость между уровнем дохода и возвратом кредита в срок?"
   ]
  },
  {
   "cell_type": "code",
   "execution_count": null,
   "id": "8787f44a",
   "metadata": {
    "deletable": false,
    "id": "8787f44a"
   },
   "outputs": [],
   "source": [
    "\n",
    "\n",
    "#print(data.groupby('total_income_category')['debt'].sum() / data.groupby('total_income_category')['total_income_category'].count() * 100)\n",
    "# выведем на экран соотношение в процентах по группам имеющих задолженность /\n",
    "#с общим количеством клиентов сгруппировав по уровню дохода('total_income_category')\n",
    "\n",
    "total_income_category_debt = data.groupby('total_income_category').agg({'debt':['count','sum']}) #группировка списка по уровню дохода и подсчет числа в группе и суммы дебиторов\n",
    "total_income_category_debt.columns = ['total','debt']\n",
    "total_income_category_debt['%'] = total_income_category_debt['debt'] / total_income_category_debt['total'] * 100\n",
    "total_income_category_debt\n",
    "\n",
    "\n",
    "\n",
    "# Ваш код будет здесь. Вы можете создавать новые ячейки."
   ]
  },
  {
   "cell_type": "markdown",
   "id": "6dd14b57",
   "metadata": {
    "deletable": false,
    "id": "6dd14b57"
   },
   "source": [
    "**Вывод:** \n",
    "\n",
    "    По уровню дохода клиенты делятся и имеют следующий процент не возврата кредита в срок:\n",
    "| Уровень дохода | Количество клиентов | Доля возвратов не вовремя |\n",
    "|-|-|-|\n",
    "| А |25 |8,00% |\n",
    "| B |5014 |7,06%|\n",
    "| C |15921|8,49%|\n",
    "| D |349|6,01%|\n",
    "| E |22|9,09%|\n",
    "\n",
    "Зависимость между уровнем дохода и возвратом кредита в срок могу с уверенность отследить по группам с доходом категорий `С` и `В`, так как данных хватит для объективной оценки. Видно, что с увеличением заработка доля по невыплаченным кредитам вовремя уменьшилась на 1,5 % пункта. Если не учитывать малое количество клиентов категорий А D и Е то самые надежные конечно D(6.01%)\n",
    "\n",
    "    "
   ]
  },
  {
   "cell_type": "markdown",
   "id": "e93aa470",
   "metadata": {},
   "source": [
    "<div class=\"alert alert-success\">\n",
    "<h2> Комментарий ревьюера 😊<a class=\"tocSkip\"> </h2>\n",
    "\n",
    "Верно, молодец)"
   ]
  },
  {
   "cell_type": "markdown",
   "id": "fff9a7e9",
   "metadata": {},
   "source": [
    "<div class=\"alert alert-info\"> <b>Комментарий студента:</b> Спасибо, значит не обязательно разбивать на категории по меньшим суммам дохода, а то я уже приготовился</div>\n"
   ]
  },
  {
   "cell_type": "markdown",
   "id": "03d0cf4f",
   "metadata": {},
   "source": [
    "<div class=\"alert alert-success\">\n",
    "<h2> Комментарий ревьюера 😊 v_2 <a class=\"tocSkip\"> </h2>\n",
    "\n",
    "Можно дополнить еще одной категоризацией, ее можно будет предложить заказчику)"
   ]
  },
  {
   "cell_type": "markdown",
   "id": "1dcc9b12",
   "metadata": {
    "deletable": false,
    "editable": false,
    "id": "1dcc9b12"
   },
   "source": [
    "#### 3.4 Как разные цели кредита влияют на его возврат в срок?"
   ]
  },
  {
   "cell_type": "code",
   "execution_count": null,
   "id": "c602bc8b",
   "metadata": {
    "deletable": false,
    "id": "c602bc8b"
   },
   "outputs": [],
   "source": [
    "\n",
    "\n",
    "#print(data.groupby('purpose_category')['debt'].sum() / data.groupby('purpose_category')['purpose_category'].count() * 100)\n",
    "# выведем на экран соотношение в процентах по группам имеющих задолженность /\n",
    "#с общим количеством клиентов сгруппировав по цели кредита('purpose_category')\n",
    "\n",
    "purpose_category_debt = data.groupby('purpose_category').agg({'debt':['count','sum']}) #группировка списка по цели кредита и подсчет числа в группе и суммы дебиторов\n",
    "purpose_category_debt.columns = ['total','debt']\n",
    "purpose_category_debt['%'] = purpose_category_debt['debt'] / purpose_category_debt['total'] * 100\n",
    "purpose_category_debt\n",
    "\n",
    "\n",
    "\n",
    "# Ваш код будет здесь. Вы можете создавать новые ячейки."
   ]
  },
  {
   "cell_type": "markdown",
   "id": "cf05ed63",
   "metadata": {
    "deletable": false,
    "id": "cf05ed63"
   },
   "source": [
    "**Вывод:** \n",
    "\n",
    "    По целям на кредит клиенты делятся и имеют следующий процент не возврата кредита в срок:\n",
    "| Цель кредита | Количество клиентов | Доля возвратов не вовремя |\n",
    "|-|-|-|\n",
    "| операции с автомобилем |4279 |9,35% |\n",
    "| операции с недвижимостью |10751 |7,26%|\n",
    "| получение образования |3988|9,25%|\n",
    "| проведение свадьбы |2313|7,91%|\n",
    "\n",
    "Самая низкая доля по возвратам не вовремя `7,26%` у `операции с недвижимостью` и самая высокая `9,35%` у `операции с автомобилем`\n",
    "\n"
   ]
  },
  {
   "cell_type": "markdown",
   "id": "0d9cd939",
   "metadata": {},
   "source": [
    "<div class=\"alert alert-success\">\n",
    "<h2> Комментарий ревьюера 😊<a class=\"tocSkip\"> </h2>\n",
    "\n",
    "Верно)"
   ]
  },
  {
   "cell_type": "markdown",
   "id": "46c1f10b",
   "metadata": {
    "deletable": false,
    "editable": false,
    "id": "46c1f10b"
   },
   "source": [
    "#### 3.5 Приведите возможные причины появления пропусков в исходных данных."
   ]
  },
  {
   "cell_type": "code",
   "execution_count": null,
   "id": "48f20a1b",
   "metadata": {},
   "outputs": [],
   "source": [
    "\n",
    "rows_number = data.shape[0] # количество строк\n",
    "print(f'Доля пропусков трудового стажа: {(days_employed_nan/rows_number):.0%}') # выводим на экран какую долю составляют пропущенные значения в слобце трудовой стаж\n",
    "print(f'Доля пропусков ежемесячных доходов: {(total_income_nan/rows_number):.0%}') # выводим на экран какую долю составляют пропущенные значения в слобце ежемесячный доход"
   ]
  },
  {
   "cell_type": "markdown",
   "id": "3697d2a9",
   "metadata": {
    "deletable": false,
    "id": "3697d2a9"
   },
   "source": [
    "*Ответ:* Доли пропусков данных высокие 10% от общего числа. Пропуски не случайны по происхождению, возможно чтобы скрыть отсутствие или небольшой стаж работы, клиент или даже кредитный специалист не заполнял данные. Доход могли скрывать по этим же причинам либо наоборот не хотят его разглашать."
   ]
  },
  {
   "cell_type": "markdown",
   "id": "a4ee9080",
   "metadata": {},
   "source": [
    "<div class=\"alert alert-warning\">\n",
    "<h2> Комментарий ревьюера 🤓<a class=\"tocSkip\"> </h2>\n",
    "\n",
    "Возможен и технический сбой)"
   ]
  },
  {
   "cell_type": "markdown",
   "id": "3137d257",
   "metadata": {
    "deletable": false,
    "editable": false,
    "id": "3137d257"
   },
   "source": [
    "#### 3.6 Объясните, почему заполнить пропуски медианным значением — лучшее решение для количественных переменных."
   ]
  },
  {
   "cell_type": "markdown",
   "id": "cf40012a",
   "metadata": {
    "deletable": false,
    "id": "cf40012a"
   },
   "source": [
    "*Ответ:* \n",
    "    \n",
    "   При обработке большого массива данных, где пропуска в ячейках с долей в 10% от общего количества строк, может привести к неверной выборке и утерей ценных данных, так как не получится использовать информацию других столбцов этих строк.\n",
    "    Во избежание этого необходимо максимально заполнить пропуски.\n",
    "    В случае количественных переменных лучшее решение заполнить пропуски медианным значением. \n",
    "    Такой метод позволит исключить влияние всплесковых или аномальных данных. К тому же при  более детальной группировке свойственной влиять на данный показатель (например должность, образование и т.п.) мы можем приблизить подставляемое значение к естественному.\n"
   ]
  },
  {
   "cell_type": "markdown",
   "id": "4e3bf252",
   "metadata": {},
   "source": [
    "<div class=\"alert alert-success\">\n",
    "<h2> Комментарий ревьюера 😊<a class=\"tocSkip\"> </h2>\n",
    "\n",
    "Точно, медиана менее чувствительна к выбросам, чем среднее."
   ]
  },
  {
   "cell_type": "markdown",
   "id": "57bc304e",
   "metadata": {
    "deletable": false,
    "editable": false,
    "id": "57bc304e"
   },
   "source": [
    "### Шаг 4: общий вывод."
   ]
  },
  {
   "cell_type": "markdown",
   "id": "1ab75d1c",
   "metadata": {
    "deletable": false,
    "id": "1ab75d1c"
   },
   "source": [
    "\n",
    "Проверил 4 гипотезы влияния на возврат кредита в срок.\n",
    "1. Есть ли зависимость между количеством детей и возвратом кредита в срок\n",
    "Количество детей в семье при увеличении или уменьшении не влияет на выплату кредита, возможно с исследованием более крупного массива данных можно будет сказать как коррелируют эти показатели.\n",
    "При этом влияние наличия детей в семье да однозначно влияет и если сравнивать с заемщиками без детей.\n",
    "\n",
    "2. Есть ли зависимость между семейным положением и возвратом кредита в срок.\n",
    "Да зависимость есть. Надежность клиентов повышается по данному жизненному пути. Так до брака риск с клиентом на уровне 9,76% а после него снижается до 6,62%\n",
    "\n",
    "3. Есть ли зависимость между уровнем дохода и возвратом кредита в срок.\n",
    "Зависимость влияния дохода исходя из выработки получилось отследить на двум категориям и она положительная(-1,43%). При увеличении выборки, а так же категоризации на более частые группы по доходу представится возможность отследить динамику.\n",
    "\n",
    "4. Как разные цели кредита влияют на его возврат в срок.\n",
    "При анализе целей на кредит выявил самый надежный сегмент это ’операции с недвижимостью’  - риск 7,26% так же эта доля подкрепляется большим процентом в общей массе выданных займов 50%. \n",
    "Фактор цели влияет и его рейтинг от недвижимости к проведению свадьбы (7,91%), получению образования(9,25%) и операциям на автомобиль(9,35%), обусловлен так же другими факторами возраст, осознанность принятого решения, кредитная история на момент заключения операций с недвижимостью.\n",
    "\n",
    "Важно обратить внимание на пропуски данных, которые важно понимать и не допускать пропуска. Подтвердилась гипотеза о влиянии дохода на возврат кредита. Необходимы меры, например не пропускать заявку на согласование без указания этих данных с проверкой на программном уровне и специалистов кредитного отдела.\n",
    "\n"
   ]
  },
  {
   "cell_type": "markdown",
   "id": "2f0fbae1",
   "metadata": {},
   "source": [
    "<div class=\"alert alert-success\">\n",
    "<h2> Комментарий ревьюера 😊<a class=\"tocSkip\"> </h2>\n",
    "\n",
    "Содержательный вывод по проделанной работе)"
   ]
  },
  {
   "cell_type": "markdown",
   "id": "d893790d",
   "metadata": {},
   "source": [
    "<div style=\"border:solid Purple 2px; padding: 40px\">\n",
    "\n",
    "<h2> Общий комментарий ревьюера 😊<a class=\"tocSkip\"> </h2>\n",
    "    <br/>\n",
    "Ты проделал большую работу, и все основные задачи в рамках проекта решены, это отличная работа! Особенно хочу выделить  подробные выводы и работу со сводными таблицами!)\n",
    " \n",
    "    \n",
    " \n",
    "**Желаю удачи и жду твой проект на повторное ревью! Если вдруг у тебя возникнут вопросы, то я с радостью отвечу на них.    😊**\n",
    "    "
   ]
  },
  {
   "cell_type": "markdown",
   "id": "92f1af4d",
   "metadata": {},
   "source": [
    "<div class=\"alert alert-info\"> <b>Комментарий студента:</b> \n",
    "\n",
    "Благодарю, за обратную связь. Приятно научится новому и сейчас.\n",
    "\n",
    "Кстати как ты вставляешь смайл?\n",
    "    \n",
    "Где порекомендуешь нарабатывать практику дополнительно? Я сейчас понимаю, что если мне каждый день не писать, код буду терять приобретенные навыки.\n",
    "\n",
    "</div>\n"
   ]
  },
  {
   "cell_type": "markdown",
   "id": "f71f9924",
   "metadata": {},
   "source": [
    "<div style=\"border:solid Purple 2px; padding: 40px\">\n",
    "\n",
    "<h2> Общий комментарий ревьюера 😊 v_2<a class=\"tocSkip\"> </h2>\n",
    "    <br/>\n",
    "Максим, спасибо за проект! Успехов в дальнейшем обучении!)\n",
    "    \n",
    "Смайлы через ctrl+c и ctrl+v. Лучше всего в доп. проектах. Можно после сдачи работать над теми же проектами, проводить дополнительные анализы и пробовать новые фишки) \n",
    "    "
   ]
  },
  {
   "cell_type": "code",
   "execution_count": null,
   "id": "adc4f398",
   "metadata": {},
   "outputs": [],
   "source": []
  }
 ],
 "metadata": {
  "ExecuteTimeLog": [
   {
    "duration": 545,
    "start_time": "2024-01-08T08:22:46.183Z"
   },
   {
    "duration": 0,
    "start_time": "2024-01-08T08:22:46.730Z"
   },
   {
    "duration": 0,
    "start_time": "2024-01-08T08:22:46.731Z"
   },
   {
    "duration": 0,
    "start_time": "2024-01-08T08:22:46.733Z"
   },
   {
    "duration": 0,
    "start_time": "2024-01-08T08:22:46.734Z"
   },
   {
    "duration": 0,
    "start_time": "2024-01-08T08:22:46.735Z"
   },
   {
    "duration": 0,
    "start_time": "2024-01-08T08:22:46.736Z"
   },
   {
    "duration": 0,
    "start_time": "2024-01-08T08:22:46.737Z"
   },
   {
    "duration": 0,
    "start_time": "2024-01-08T08:22:46.738Z"
   },
   {
    "duration": 0,
    "start_time": "2024-01-08T08:22:46.739Z"
   },
   {
    "duration": 0,
    "start_time": "2024-01-08T08:22:46.740Z"
   },
   {
    "duration": 0,
    "start_time": "2024-01-08T08:22:46.741Z"
   },
   {
    "duration": 0,
    "start_time": "2024-01-08T08:22:46.742Z"
   },
   {
    "duration": 0,
    "start_time": "2024-01-08T08:22:46.743Z"
   },
   {
    "duration": 0,
    "start_time": "2024-01-08T08:22:46.743Z"
   },
   {
    "duration": 0,
    "start_time": "2024-01-08T08:22:46.744Z"
   },
   {
    "duration": 0,
    "start_time": "2024-01-08T08:22:46.745Z"
   },
   {
    "duration": 0,
    "start_time": "2024-01-08T08:22:46.746Z"
   },
   {
    "duration": 0,
    "start_time": "2024-01-08T08:22:46.747Z"
   },
   {
    "duration": 0,
    "start_time": "2024-01-08T08:22:46.748Z"
   },
   {
    "duration": 0,
    "start_time": "2024-01-08T08:22:46.749Z"
   },
   {
    "duration": 0,
    "start_time": "2024-01-08T08:22:46.750Z"
   },
   {
    "duration": 0,
    "start_time": "2024-01-08T08:22:46.751Z"
   },
   {
    "duration": 0,
    "start_time": "2024-01-08T08:22:46.752Z"
   },
   {
    "duration": 0,
    "start_time": "2024-01-08T08:22:46.753Z"
   },
   {
    "duration": 0,
    "start_time": "2024-01-08T08:22:46.755Z"
   },
   {
    "duration": 460,
    "start_time": "2024-01-08T08:25:26.257Z"
   },
   {
    "duration": 0,
    "start_time": "2024-01-08T08:25:26.719Z"
   },
   {
    "duration": 0,
    "start_time": "2024-01-08T08:25:26.720Z"
   },
   {
    "duration": 0,
    "start_time": "2024-01-08T08:25:26.723Z"
   },
   {
    "duration": 0,
    "start_time": "2024-01-08T08:25:26.724Z"
   },
   {
    "duration": 0,
    "start_time": "2024-01-08T08:25:26.725Z"
   },
   {
    "duration": 0,
    "start_time": "2024-01-08T08:25:26.726Z"
   },
   {
    "duration": 0,
    "start_time": "2024-01-08T08:25:26.727Z"
   },
   {
    "duration": 0,
    "start_time": "2024-01-08T08:25:26.729Z"
   },
   {
    "duration": 0,
    "start_time": "2024-01-08T08:25:26.729Z"
   },
   {
    "duration": 0,
    "start_time": "2024-01-08T08:25:26.731Z"
   },
   {
    "duration": 0,
    "start_time": "2024-01-08T08:25:26.732Z"
   },
   {
    "duration": 0,
    "start_time": "2024-01-08T08:25:26.733Z"
   },
   {
    "duration": 0,
    "start_time": "2024-01-08T08:25:26.734Z"
   },
   {
    "duration": 1,
    "start_time": "2024-01-08T08:25:26.735Z"
   },
   {
    "duration": 1,
    "start_time": "2024-01-08T08:25:26.736Z"
   },
   {
    "duration": 0,
    "start_time": "2024-01-08T08:25:26.738Z"
   },
   {
    "duration": 0,
    "start_time": "2024-01-08T08:25:26.739Z"
   },
   {
    "duration": 0,
    "start_time": "2024-01-08T08:25:26.740Z"
   },
   {
    "duration": 0,
    "start_time": "2024-01-08T08:25:26.741Z"
   },
   {
    "duration": 0,
    "start_time": "2024-01-08T08:25:26.742Z"
   },
   {
    "duration": 0,
    "start_time": "2024-01-08T08:25:26.743Z"
   },
   {
    "duration": 0,
    "start_time": "2024-01-08T08:25:26.744Z"
   },
   {
    "duration": 0,
    "start_time": "2024-01-08T08:25:26.745Z"
   },
   {
    "duration": 0,
    "start_time": "2024-01-08T08:25:26.746Z"
   },
   {
    "duration": 0,
    "start_time": "2024-01-08T08:25:26.747Z"
   },
   {
    "duration": 278,
    "start_time": "2024-01-08T08:25:37.113Z"
   },
   {
    "duration": 451,
    "start_time": "2024-01-08T08:25:40.912Z"
   },
   {
    "duration": 21,
    "start_time": "2024-01-08T08:25:41.364Z"
   },
   {
    "duration": 14,
    "start_time": "2024-01-08T08:25:41.386Z"
   },
   {
    "duration": 11,
    "start_time": "2024-01-08T08:25:41.412Z"
   },
   {
    "duration": 32,
    "start_time": "2024-01-08T08:25:41.424Z"
   },
   {
    "duration": 3,
    "start_time": "2024-01-08T08:25:41.457Z"
   },
   {
    "duration": 31,
    "start_time": "2024-01-08T08:25:41.461Z"
   },
   {
    "duration": 18,
    "start_time": "2024-01-08T08:25:41.493Z"
   },
   {
    "duration": 6,
    "start_time": "2024-01-08T08:25:41.513Z"
   },
   {
    "duration": 4,
    "start_time": "2024-01-08T08:25:41.521Z"
   },
   {
    "duration": 32,
    "start_time": "2024-01-08T08:25:41.526Z"
   },
   {
    "duration": 9,
    "start_time": "2024-01-08T08:25:41.559Z"
   },
   {
    "duration": 5,
    "start_time": "2024-01-08T08:25:41.570Z"
   },
   {
    "duration": 37,
    "start_time": "2024-01-08T08:25:41.576Z"
   },
   {
    "duration": 25,
    "start_time": "2024-01-08T08:25:41.615Z"
   },
   {
    "duration": 15,
    "start_time": "2024-01-08T08:25:41.641Z"
   },
   {
    "duration": 3,
    "start_time": "2024-01-08T08:25:41.657Z"
   },
   {
    "duration": 10,
    "start_time": "2024-01-08T08:25:41.662Z"
   },
   {
    "duration": 8,
    "start_time": "2024-01-08T08:25:41.674Z"
   },
   {
    "duration": 3,
    "start_time": "2024-01-08T08:25:41.684Z"
   },
   {
    "duration": 24,
    "start_time": "2024-01-08T08:25:41.688Z"
   },
   {
    "duration": 18,
    "start_time": "2024-01-08T08:25:41.713Z"
   },
   {
    "duration": 16,
    "start_time": "2024-01-08T08:25:41.733Z"
   },
   {
    "duration": 11,
    "start_time": "2024-01-08T08:25:41.750Z"
   },
   {
    "duration": 11,
    "start_time": "2024-01-08T08:25:41.763Z"
   },
   {
    "duration": 3,
    "start_time": "2024-01-08T08:25:41.775Z"
   },
   {
    "duration": 89,
    "start_time": "2024-01-09T19:28:18.104Z"
   },
   {
    "duration": 87,
    "start_time": "2024-01-09T19:28:36.072Z"
   },
   {
    "duration": 79,
    "start_time": "2024-01-09T19:30:18.254Z"
   },
   {
    "duration": 47,
    "start_time": "2024-01-09T19:42:48.973Z"
   },
   {
    "duration": 556,
    "start_time": "2024-01-09T19:43:09.051Z"
   },
   {
    "duration": 20,
    "start_time": "2024-01-09T19:43:09.609Z"
   },
   {
    "duration": 29,
    "start_time": "2024-01-09T19:43:09.631Z"
   },
   {
    "duration": 26,
    "start_time": "2024-01-09T19:43:09.662Z"
   },
   {
    "duration": 52,
    "start_time": "2024-01-09T19:43:09.689Z"
   },
   {
    "duration": 3,
    "start_time": "2024-01-09T19:43:09.742Z"
   },
   {
    "duration": 38,
    "start_time": "2024-01-09T19:43:09.747Z"
   },
   {
    "duration": 22,
    "start_time": "2024-01-09T19:43:09.787Z"
   },
   {
    "duration": 37,
    "start_time": "2024-01-09T19:43:09.811Z"
   },
   {
    "duration": 17,
    "start_time": "2024-01-09T19:43:09.851Z"
   },
   {
    "duration": 57,
    "start_time": "2024-01-09T19:43:09.880Z"
   },
   {
    "duration": 14,
    "start_time": "2024-01-09T19:43:09.939Z"
   },
   {
    "duration": 26,
    "start_time": "2024-01-09T19:43:09.955Z"
   },
   {
    "duration": 22,
    "start_time": "2024-01-09T19:43:09.982Z"
   },
   {
    "duration": 47,
    "start_time": "2024-01-09T19:43:10.006Z"
   },
   {
    "duration": 31,
    "start_time": "2024-01-09T19:43:10.054Z"
   },
   {
    "duration": 5,
    "start_time": "2024-01-09T19:43:10.086Z"
   },
   {
    "duration": 26,
    "start_time": "2024-01-09T19:43:10.092Z"
   },
   {
    "duration": 12,
    "start_time": "2024-01-09T19:43:10.119Z"
   },
   {
    "duration": 30,
    "start_time": "2024-01-09T19:43:10.133Z"
   },
   {
    "duration": 24,
    "start_time": "2024-01-09T19:43:10.164Z"
   },
   {
    "duration": 31,
    "start_time": "2024-01-09T19:43:10.189Z"
   },
   {
    "duration": 10,
    "start_time": "2024-01-09T19:43:10.222Z"
   },
   {
    "duration": 31,
    "start_time": "2024-01-09T19:43:10.233Z"
   },
   {
    "duration": 34,
    "start_time": "2024-01-09T19:43:10.266Z"
   },
   {
    "duration": 37,
    "start_time": "2024-01-09T19:43:10.302Z"
   },
   {
    "duration": 37,
    "start_time": "2024-01-09T19:43:10.341Z"
   },
   {
    "duration": 6,
    "start_time": "2024-01-09T19:43:31.618Z"
   },
   {
    "duration": 5,
    "start_time": "2024-01-09T19:46:06.689Z"
   },
   {
    "duration": 1640,
    "start_time": "2024-01-09T19:48:08.020Z"
   },
   {
    "duration": 10,
    "start_time": "2024-01-09T19:48:20.551Z"
   },
   {
    "duration": 1321,
    "start_time": "2024-01-09T19:52:57.959Z"
   },
   {
    "duration": 15,
    "start_time": "2024-01-09T19:53:45.389Z"
   },
   {
    "duration": 4,
    "start_time": "2024-01-09T19:53:48.942Z"
   },
   {
    "duration": 5,
    "start_time": "2024-01-09T19:54:14.638Z"
   },
   {
    "duration": 13,
    "start_time": "2024-01-09T20:07:42.173Z"
   },
   {
    "duration": 15,
    "start_time": "2024-01-09T20:09:25.697Z"
   },
   {
    "duration": 9,
    "start_time": "2024-01-09T20:09:30.388Z"
   },
   {
    "duration": 12,
    "start_time": "2024-01-09T20:09:56.766Z"
   },
   {
    "duration": 10,
    "start_time": "2024-01-09T20:12:51.320Z"
   },
   {
    "duration": 4,
    "start_time": "2024-01-09T20:46:56.867Z"
   },
   {
    "duration": 53,
    "start_time": "2024-01-10T17:27:20.047Z"
   },
   {
    "duration": 737,
    "start_time": "2024-01-10T17:27:38.286Z"
   },
   {
    "duration": 21,
    "start_time": "2024-01-10T17:27:39.025Z"
   },
   {
    "duration": 22,
    "start_time": "2024-01-10T17:27:39.048Z"
   },
   {
    "duration": 11,
    "start_time": "2024-01-10T17:27:39.072Z"
   },
   {
    "duration": 40,
    "start_time": "2024-01-10T17:27:39.085Z"
   },
   {
    "duration": 3,
    "start_time": "2024-01-10T17:27:39.126Z"
   },
   {
    "duration": 20,
    "start_time": "2024-01-10T17:27:39.131Z"
   },
   {
    "duration": 4,
    "start_time": "2024-01-10T17:27:39.153Z"
   },
   {
    "duration": 30,
    "start_time": "2024-01-10T17:27:39.158Z"
   },
   {
    "duration": 9,
    "start_time": "2024-01-10T17:27:39.191Z"
   },
   {
    "duration": 42,
    "start_time": "2024-01-10T17:27:39.202Z"
   },
   {
    "duration": 11,
    "start_time": "2024-01-10T17:27:39.245Z"
   },
   {
    "duration": 4,
    "start_time": "2024-01-10T17:27:39.258Z"
   },
   {
    "duration": 14,
    "start_time": "2024-01-10T17:27:39.264Z"
   },
   {
    "duration": 19,
    "start_time": "2024-01-10T17:27:39.279Z"
   },
   {
    "duration": 30,
    "start_time": "2024-01-10T17:27:39.299Z"
   },
   {
    "duration": 3,
    "start_time": "2024-01-10T17:27:39.330Z"
   },
   {
    "duration": 21,
    "start_time": "2024-01-10T17:27:39.335Z"
   },
   {
    "duration": 7,
    "start_time": "2024-01-10T17:27:39.357Z"
   },
   {
    "duration": 4,
    "start_time": "2024-01-10T17:27:39.366Z"
   },
   {
    "duration": 11,
    "start_time": "2024-01-10T17:27:39.372Z"
   },
   {
    "duration": 34,
    "start_time": "2024-01-10T17:27:39.385Z"
   },
   {
    "duration": 69,
    "start_time": "2024-01-10T17:27:39.420Z"
   },
   {
    "duration": 0,
    "start_time": "2024-01-10T17:27:39.491Z"
   },
   {
    "duration": 0,
    "start_time": "2024-01-10T17:27:39.492Z"
   },
   {
    "duration": 0,
    "start_time": "2024-01-10T17:27:39.494Z"
   },
   {
    "duration": 0,
    "start_time": "2024-01-10T17:27:39.514Z"
   },
   {
    "duration": 13,
    "start_time": "2024-01-10T17:27:53.833Z"
   },
   {
    "duration": 9,
    "start_time": "2024-01-10T17:28:19.054Z"
   },
   {
    "duration": 92,
    "start_time": "2024-01-10T17:29:07.530Z"
   },
   {
    "duration": 9,
    "start_time": "2024-01-10T17:29:17.158Z"
   }
  ],
  "colab": {
   "provenance": []
  },
  "kernelspec": {
   "display_name": "Python 3 (ipykernel)",
   "language": "python",
   "name": "python3"
  },
  "language_info": {
   "codemirror_mode": {
    "name": "ipython",
    "version": 3
   },
   "file_extension": ".py",
   "mimetype": "text/x-python",
   "name": "python",
   "nbconvert_exporter": "python",
   "pygments_lexer": "ipython3",
   "version": "3.11.5"
  },
  "toc": {
   "base_numbering": 1,
   "nav_menu": {},
   "number_sections": true,
   "sideBar": true,
   "skip_h1_title": true,
   "title_cell": "Table of Contents",
   "title_sidebar": "Contents",
   "toc_cell": false,
   "toc_position": {},
   "toc_section_display": true,
   "toc_window_display": false
  },
  "varInspector": {
   "cols": {
    "lenName": 16,
    "lenType": 16,
    "lenVar": 40
   },
   "kernels_config": {
    "python": {
     "delete_cmd_postfix": "",
     "delete_cmd_prefix": "del ",
     "library": "var_list.py",
     "varRefreshCmd": "print(var_dic_list())"
    },
    "r": {
     "delete_cmd_postfix": ") ",
     "delete_cmd_prefix": "rm(",
     "library": "var_list.r",
     "varRefreshCmd": "cat(var_dic_list()) "
    }
   },
   "types_to_exclude": [
    "module",
    "function",
    "builtin_function_or_method",
    "instance",
    "_Feature"
   ],
   "window_display": false
  }
 },
 "nbformat": 4,
 "nbformat_minor": 5
}
